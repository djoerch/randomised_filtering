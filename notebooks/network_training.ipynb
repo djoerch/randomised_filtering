{
 "cells": [
  {
   "cell_type": "markdown",
   "metadata": {},
   "source": [
    "## NETWORK TRAINING CODE ##\n",
    "\n",
    "This module contains all code used for network training (aside from helper/data loader functions) and basic evaluations\n",
    "\n",
    "Author: antoniabhain@gmail.com"
   ]
  },
  {
   "cell_type": "code",
   "execution_count": null,
   "metadata": {
    "collapsed": true
   },
   "outputs": [],
   "source": [
    "import numpy as np\n",
    "import cv2\n",
    "\n",
    "from randomised_filtering.classifier.streamline_loader import load_data\n",
    "from randomised_filtering.classifier.model import get_binary_model, get_categorical_model\n",
    "from randomised_filtering.classifier.training import training_cv\n",
    "\n",
    "TRK_PATH = \"data/599671/All_10M_corrected.trk\"\n",
    "POS_STREAMLINES_PATH = \"data/599671/json/pos_streamlines.json\"\n",
    "NEG_STREAMLINES_PATH = \"data/599671/json/neg_streamlines.json\""
   ]
  },
  {
   "cell_type": "code",
   "execution_count": null,
   "metadata": {
    "collapsed": true,
    "scrolled": true
   },
   "outputs": [],
   "source": [
    "pos_streamlines, neg_streamlines, inc_streamlines = load_data(\n",
    "    TRK_PATH, \n",
    "    POS_STREAMLINES_PATH,  \n",
    "    NEG_STREAMLINES_PATH, \n",
    "    normalize=True\n",
    ")"
   ]
  },
  {
   "cell_type": "code",
   "execution_count": null,
   "metadata": {
    "collapsed": true
   },
   "outputs": [],
   "source": [
    "np.random.shuffle(pos_streamlines)\n",
    "np.random.shuffle(neg_streamlines)\n",
    "np.random.shuffle(inc_streamlines)"
   ]
  },
  {
   "cell_type": "code",
   "execution_count": null,
   "metadata": {
    "collapsed": true
   },
   "outputs": [],
   "source": [
    "# resize data to fit network input dimensions\n",
    "\n",
    "POINTS_PER_STREAMLINE = 23  # resample streamlines to this number of points\n",
    "\n",
    "RESAMPLING_SHAPE = (3, POINTS_PER_STREAMLINE)\n",
    "INPUT_SHAPE = (np.prod(RESAMPLING_SHAPE), 1)  # shape of network input\n",
    "\n",
    "pos_resized = np.array([\n",
    "    cv2.resize(x, RESAMPLING_SHAPE).reshape(INPUT_SHAPE) for x in pos_streamlines\n",
    "])\n",
    "neg_resized = np.array([\n",
    "    cv2.resize(x, RESAMPLING_SHAPE).reshape(INPUT_SHAPE) for x in neg_streamlines\n",
    "])\n",
    "inc_resized = np.array([\n",
    "    cv2.resize(x, RESAMPLING_SHAPE).reshape(INPUT_SHAPE) for x in inc_streamlines\n",
    "])"
   ]
  },
  {
   "cell_type": "markdown",
   "metadata": {},
   "source": [
    "## PLAUSIBLE VS IMPLAUSIBLE ##"
   ]
  },
  {
   "cell_type": "code",
   "execution_count": null,
   "metadata": {
    "collapsed": true
   },
   "outputs": [],
   "source": [
    "BATCH_SIZE = 50\n",
    "k = 5\n",
    "\n",
    "# exchange one of these for inc_resized when wanting to train with inconclusive streamlines\n",
    "data = [neg_resized, pos_resized]\n",
    "model = get_binary_model(input_shape=INPUT_SHAPE)\n",
    "\n",
    "# train 5 models in 5-fold cross-validation\n",
    "training_cv(\n",
    "    data=data,\n",
    "    model=model,\n",
    "    nb_folds=k,\n",
    "    batch_size=BATCH_SIZE,\n",
    "    epochs=5,\n",
    "    base_path_to_model=\"model_binary\",\n",
    ")"
   ]
  },
  {
   "cell_type": "markdown",
   "metadata": {},
   "source": [
    "## MULTI-CLASS CLASSIFIER ##"
   ]
  },
  {
   "cell_type": "code",
   "execution_count": null,
   "metadata": {
    "collapsed": true,
    "scrolled": false
   },
   "outputs": [],
   "source": [
    "BATCH_SIZE = 60\n",
    "k = 5\n",
    "\n",
    "data = [neg_resized, pos_resized, inc_resized]\n",
    "model = get_categorical_model(num_classes=len(data), input_shape=INPUT_SHAPE)\n",
    "\n",
    "# train 5 models in 5-fold cross-validation\n",
    "training_cv(\n",
    "    data=data,\n",
    "    model=model,\n",
    "    nb_folds=k,\n",
    "    batch_size=BATCH_SIZE,\n",
    "    epochs=2,\n",
    "    base_path_to_model=\"model_cat\" + str(len(data)),\n",
    ")"
   ]
  }
 ],
 "metadata": {
  "kernelspec": {
   "display_name": "Python 3",
   "language": "python",
   "name": "python3"
  },
  "language_info": {
   "codemirror_mode": {
    "name": "ipython",
    "version": 3
   },
   "file_extension": ".py",
   "mimetype": "text/x-python",
   "name": "python",
   "nbconvert_exporter": "python",
   "pygments_lexer": "ipython3",
   "version": "3.6.3"
  }
 },
 "nbformat": 4,
 "nbformat_minor": 2
}