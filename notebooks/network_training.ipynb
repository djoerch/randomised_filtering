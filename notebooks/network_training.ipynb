{
 "cells": [
  {
   "cell_type": "markdown",
   "metadata": {},
   "source": [
    "## NETWORK TRAINING CODE ##\n",
    "\n",
    "This module contains all code used for network training (aside from helper/data loader functions) and basic evaluations\n",
    "\n",
    "Author: antoniabhain@gmail.com"
   ]
  },
  {
   "cell_type": "code",
   "execution_count": null,
   "metadata": {
    "collapsed": true
   },
   "outputs": [],
   "source": [
    "import numpy as np\n",
    "import cv2\n",
    "\n",
    "from randomised_filtering.classifier.streamline_loader import load_data\n",
    "from randomised_filtering.classifier.generator import BalancedDataGen\n",
    "from randomised_filtering.classifier.model import get_binary_model, get_categorical_model\n",
    "\n",
    "TRK_PATH = \"data/599671/All_10M_corrected.trk\"\n",
    "POS_STREAMLINES_PATH = \"data/599671/json/pos_streamlines.json\"\n",
    "NEG_STREAMLINES_PATH = \"data/599671/json/neg_streamlines.json\""
   ]
  },
  {
   "cell_type": "code",
   "execution_count": null,
   "metadata": {
    "collapsed": true,
    "scrolled": true
   },
   "outputs": [],
   "source": [
    "pos_streamlines, neg_streamlines, inc_streamlines = load_data(\n",
    "    TRK_PATH, \n",
    "    POS_STREAMLINES_PATH,  \n",
    "    NEG_STREAMLINES_PATH, \n",
    "    normalize=True)"
   ]
  },
  {
   "cell_type": "code",
   "execution_count": null,
   "metadata": {
    "collapsed": true
   },
   "outputs": [],
   "source": [
    "np.random.shuffle(pos_streamlines)\n",
    "np.random.shuffle(neg_streamlines)\n",
    "np.random.shuffle(inc_streamlines)"
   ]
  },
  {
   "cell_type": "code",
   "execution_count": null,
   "metadata": {
    "collapsed": true
   },
   "outputs": [],
   "source": [
    "# resize data to fit network input dimensions\n",
    "pos_resized = np.array([cv2.resize(x, (3,23)).reshape((69,1)) for x in pos_streamlines])\n",
    "neg_resized = np.array([cv2.resize(x, (3,23)).reshape((69,1)) for x in neg_streamlines])\n",
    "inc_resized = np.array([cv2.resize(x, (3,23)).reshape((69,1)) for x in inc_streamlines])"
   ]
  },
  {
   "cell_type": "markdown",
   "metadata": {},
   "source": [
    "## PLAUSIBLE VS IMPLAUSIBLE ##"
   ]
  },
  {
   "cell_type": "code",
   "execution_count": null,
   "metadata": {
    "collapsed": true
   },
   "outputs": [],
   "source": [
    "BATCH_SIZE = 50\n",
    "k = 5\n",
    "\n",
    "# exchange one of these for inc_resized when wanting to train with inconclusive streamlines\n",
    "data = [neg_resized, pos_resized]\n",
    "fold_len = [int(len(d) / k) for d in data]\n",
    "\n",
    "# train 5 models for cross-validation\n",
    "for fold in range(k):\n",
    "\n",
    "    # generate masks that cut out the data folds\n",
    "    test_mask = []\n",
    "    \n",
    "    for i in range(len(data)):\n",
    "        tmp_mask = np.zeros(len(data[i]), dtype=np.bool)\n",
    "        tmp_mask[int(fold * fold_len[i]) : int((fold + 1) * fold_len[i])] = True\n",
    "        test_mask += [tmp_mask]\n",
    "    \n",
    "    train_mask = [np.invert(m) for m in test_mask]\n",
    "    \n",
    "    print(\"MODEL\", fold)\n",
    "    traingen_pn = BalancedDataGen(\n",
    "        data=[_data[_mask] for _data, _mask in zip(data, train_mask)],\n",
    "        weights=[1, 1],\n",
    "        batch_size=BATCH_SIZE,\n",
    "    )\n",
    "    testgen_pn = BalancedDataGen(\n",
    "        data=[_data[_mask] for _data, _mask in zip(data, test_mask)],\n",
    "        weights=[1, 1],\n",
    "        batch_size=BATCH_SIZE,\n",
    "    )\n",
    "\n",
    "    model = get_binary_model()\n",
    "    model.fit(traingen_pn, epochs=5, verbose=1)\n",
    "    model.evaluate(testgen_pn, verbose=1)\n",
    "    \n",
    "    correct_predictions_0 = 1 - np.sum(\n",
    "        np.round(model.predict(data[0][test_mask[0]]))\n",
    "    ) / len(data[0])\n",
    "    print(correct_predictions_0)\n",
    "    print(len(data[0]))\n",
    "    print()\n",
    "\n",
    "    correct_predictions_1 = np.sum(\n",
    "        np.round(model.predict(data[1][test_mask[1]]))\n",
    "    ) / len(data[1])\n",
    "    print(len(data[1]))\n",
    "    print()\n",
    "    \n",
    "    model.save(\"model_binary_\" + str(fold))"
   ]
  },
  {
   "cell_type": "markdown",
   "metadata": {},
   "source": [
    "## MULTI-CLASS CLASSIFIER ##"
   ]
  },
  {
   "cell_type": "code",
   "execution_count": null,
   "metadata": {
    "collapsed": true,
    "scrolled": false
   },
   "outputs": [],
   "source": [
    "BATCH_SIZE = 60\n",
    "k = 5\n",
    "\n",
    "data = [neg_resized, pos_resized, inc_resized]\n",
    "fold_len = [int(len(d) / k) for d in data]\n",
    "\n",
    "for fold in range(k):\n",
    "\n",
    "    # generate masks that cut out the data folds\n",
    "    test_mask = []\n",
    "    \n",
    "    for i in range(len(data)):\n",
    "        tmp_mask = np.zeros(len(data[i]), dtype=np.bool)\n",
    "        tmp_mask[int(fold * fold_len[i]) : int((fold + 1) * fold_len[i])] = True\n",
    "        test_mask += [tmp_mask]\n",
    "    \n",
    "    train_mask = [np.invert(m) for m in test_mask]\n",
    "    \n",
    "    traingen_cat3 = BalancedDataGen(\n",
    "        data=[_data[_mask] for _data, _mask in zip(data, train_mask)],\n",
    "        weights=[1, 1, 1],\n",
    "        batch_size=BATCH_SIZE,\n",
    "        categorical=True,\n",
    "    )\n",
    "    testgen_cat3 = BalancedDataGen(\n",
    "        data=[_data[_mask] for _data, _mask in zip(data, test_mask)],\n",
    "        weights=[1, 1, 1],\n",
    "        batch_size=BATCH_SIZE,\n",
    "        categorical=True,\n",
    "    )\n",
    "\n",
    "    print(\"MODEL\", fold)\n",
    "    model_cat3 = get_categorical_model(3)\n",
    " \n",
    "    model_cat3.fit(traingen_cat3, epochs=2, verbose=1)\n",
    "    model_cat3.evaluate(testgen_cat3, verbose=1)\n",
    "      \n",
    "    model_cat3.save(\"model_cat3_\" + str(fold))"
   ]
  }
 ],
 "metadata": {
  "kernelspec": {
   "display_name": "Python 3",
   "language": "python",
   "name": "python3"
  },
  "language_info": {
   "codemirror_mode": {
    "name": "ipython",
    "version": 3
   },
   "file_extension": ".py",
   "mimetype": "text/x-python",
   "name": "python",
   "nbconvert_exporter": "python",
   "pygments_lexer": "ipython3",
   "version": "3.6.3"
  }
 },
 "nbformat": 4,
 "nbformat_minor": 2
}